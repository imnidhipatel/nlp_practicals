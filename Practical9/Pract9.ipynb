{
  "nbformat": 4,
  "nbformat_minor": 0,
  "metadata": {
    "colab": {
      "name": "Pract9.ipynb",
      "provenance": []
    },
    "kernelspec": {
      "name": "python3",
      "display_name": "Python 3"
    },
    "language_info": {
      "name": "python"
    }
  },
  "cells": [
    {
      "cell_type": "markdown",
      "metadata": {
        "id": "0V68-gl9ot8X"
      },
      "source": [
        "Practical 9 : Implement text processing with neural network "
      ]
    },
    {
      "cell_type": "code",
      "metadata": {
        "id": "C-rL8tRQz_ky"
      },
      "source": [
        "import numpy as np\n",
        "import tensorflow_datasets as tfds\n",
        "import tensorflow as tf\n",
        "tfds.disable_progress_bar()\n",
        "\n",
        "import matplotlib.pyplot as plt"
      ],
      "execution_count": 1,
      "outputs": []
    },
    {
      "cell_type": "code",
      "metadata": {
        "id": "gkG662Jc0xNd"
      },
      "source": [
        "def plot_graphs(history, metric):\n",
        "  plt.plot(history.history[metric])\n",
        "  plt.plot(history.history['val_'+metric], '')\n",
        "  plt.xlabel(\"Epochs\")\n",
        "  plt.ylabel(metric)\n",
        "  plt.legend([metric, 'val_'+metric])"
      ],
      "execution_count": 2,
      "outputs": []
    },
    {
      "cell_type": "code",
      "metadata": {
        "colab": {
          "base_uri": "https://localhost:8080/"
        },
        "id": "ZBfLmVRG0x0D",
        "outputId": "1435bf2c-fdc6-4ffa-9592-bc1420af3386"
      },
      "source": [
        "dataset, info = tfds.load('imdb_reviews', with_info=True,\n",
        "                          as_supervised=True)\n",
        "train_dataset, test_dataset = dataset['train'], dataset['test']\n",
        "\n",
        "train_dataset.element_spec"
      ],
      "execution_count": 3,
      "outputs": [
        {
          "output_type": "stream",
          "name": "stdout",
          "text": [
            "\u001b[1mDownloading and preparing dataset imdb_reviews/plain_text/1.0.0 (download: 80.23 MiB, generated: Unknown size, total: 80.23 MiB) to /root/tensorflow_datasets/imdb_reviews/plain_text/1.0.0...\u001b[0m\n",
            "Shuffling and writing examples to /root/tensorflow_datasets/imdb_reviews/plain_text/1.0.0.incomplete8KN1UH/imdb_reviews-train.tfrecord\n",
            "Shuffling and writing examples to /root/tensorflow_datasets/imdb_reviews/plain_text/1.0.0.incomplete8KN1UH/imdb_reviews-test.tfrecord\n",
            "Shuffling and writing examples to /root/tensorflow_datasets/imdb_reviews/plain_text/1.0.0.incomplete8KN1UH/imdb_reviews-unsupervised.tfrecord\n"
          ]
        },
        {
          "output_type": "stream",
          "name": "stderr",
          "text": [
            "WARNING:absl:Dataset is using deprecated text encoder API which will be removed soon. Please use the plain_text version of the dataset and migrate to `tensorflow_text`.\n"
          ]
        },
        {
          "output_type": "stream",
          "name": "stdout",
          "text": [
            "\u001b[1mDataset imdb_reviews downloaded and prepared to /root/tensorflow_datasets/imdb_reviews/plain_text/1.0.0. Subsequent calls will reuse this data.\u001b[0m\n"
          ]
        },
        {
          "output_type": "execute_result",
          "data": {
            "text/plain": [
              "(TensorSpec(shape=(), dtype=tf.string, name=None),\n",
              " TensorSpec(shape=(), dtype=tf.int64, name=None))"
            ]
          },
          "metadata": {},
          "execution_count": 3
        }
      ]
    },
    {
      "cell_type": "code",
      "metadata": {
        "colab": {
          "base_uri": "https://localhost:8080/"
        },
        "id": "z06x6T5S00_P",
        "outputId": "4a451cde-8278-4959-8e5c-de0af2b4539c"
      },
      "source": [
        "for example, label in train_dataset.take(1):\n",
        "  print('text: ', example.numpy())\n",
        "  print('label: ', label.numpy())"
      ],
      "execution_count": 4,
      "outputs": [
        {
          "output_type": "stream",
          "name": "stdout",
          "text": [
            "text:  b\"This was an absolutely terrible movie. Don't be lured in by Christopher Walken or Michael Ironside. Both are great actors, but this must simply be their worst role in history. Even their great acting could not redeem this movie's ridiculous storyline. This movie is an early nineties US propaganda piece. The most pathetic scenes were those when the Columbian rebels were making their cases for revolutions. Maria Conchita Alonso appeared phony, and her pseudo-love affair with Walken was nothing but a pathetic emotional plug in a movie that was devoid of any real meaning. I am disappointed that there are movies like this, ruining actor's like Christopher Walken's good name. I could barely sit through it.\"\n",
            "label:  0\n"
          ]
        }
      ]
    },
    {
      "cell_type": "code",
      "metadata": {
        "id": "9UPQhxFI04Nw"
      },
      "source": [
        "BUFFER_SIZE = 10000\n",
        "BATCH_SIZE = 64\n",
        "\n",
        "train_dataset = train_dataset.shuffle(BUFFER_SIZE).batch(BATCH_SIZE).prefetch(tf.data.AUTOTUNE)\n",
        "test_dataset = test_dataset.batch(BATCH_SIZE).prefetch(tf.data.AUTOTUNE)"
      ],
      "execution_count": 5,
      "outputs": []
    },
    {
      "cell_type": "code",
      "metadata": {
        "colab": {
          "base_uri": "https://localhost:8080/"
        },
        "id": "SJgzUDJv07ER",
        "outputId": "c76ccf97-fea1-4646-b651-903e93fce381"
      },
      "source": [
        "for example, label in train_dataset.take(1):\n",
        "  print('texts: ', example.numpy()[:3])\n",
        "  print()\n",
        "  print('labels: ', label.numpy()[:3])"
      ],
      "execution_count": 6,
      "outputs": [
        {
          "output_type": "stream",
          "name": "stdout",
          "text": [
            "texts:  [b\"Cat Soup at first seems to be a very random animated film. The best way I've been able to explain it is that it's quite acidic. Though it's not totally random. The story is about Nyatta, a young cat boy and his sister Nyaako. Nyaako is very ill and dies, however, Nyatta sees her soul being taken away by death and is able to retrieve half of it. The story is about their quest to bring Nyaako fully back to life.<br /><br />Though a lot of the content in this movie seems completely random, it is not. Most of it is symbolism for life, death and rebirth. You can also see references from other tales, such as Hansel and Gretal. This strangely cute short film has an interesting story, packed with a deeper meaning than what you see on the surface of the screen.\"\n",
            " b\"I've always believed that David and Bathsheba was a film originally intended for Tyrone Power at 20th Century Fox, although Gregory Peck does give a good account of himself as King David, the monarch with a wandering eye.<br /><br />A whole lot of biblical subjects get covered in this film, adultery, redemption, sin, punishment and generally what God expects from his followers.<br /><br />When you're a king, even king in a biblically prophesied kingdom you certainly do have a lot perogatives not open to the rest of us. King David has many wives, including one really vicious one in Jayne Meadows who was the daughter of Saul, David's predecessor. But his eyes catch sight of Bathsheba out in her garden one evening. Turns out she's as unhappily married to Uriah the Hittite as David is to quite a few women. Uriah is one of David's army captains. David sends for Bathsheba and him being the King, she comes a runnin' because she's had her eye on him too.<br /><br />What happens, an affair, a pregnancy, and a carefully arranged death for Uriah in a battle. But an all seeing and knowing Deity has caught all of this and is not only punishing David and Bathsheba, but the entire Kingdom of Israel is being punished with drought, disease, and pestilence.<br /><br />The sexist law of the day calls for Bathsheba to have a stoning death. David shows weakness in his previous actions, but here he steps up to the plate and asks that the whole thing be put on him. He even lays hands on the Ark of the Covenant which was an instant death as seen in the film.<br /><br />My interpretation of it is that God admires guts even if you're wrong and he lets up on David and forgives them both. Bathsheba becomes the mother of Solomon and she and David are the ancestors of several successors in the divided kingdoms of Israel and Judah until they're both conquered.<br /><br />Susan Hayward is a fetching Bathsheba caught in a loveless marriage with Uriah played by Kieron Moore. The only thing that gets Moore aroused is a good battle. I liked Kieron Moore's performance as a brave and rather stupid horse's rear. <br /><br />No one can lay the law down like Raymond Massey. His Nathan the Prophet is in keeping with the John Brown character he played in two films, same intensity. <br /><br />So when His own law called for death, why did God spare Bathsheba and keep David on the throne. Maybe it was the fact He just didn't want to train a third guy for the job. He'd replaced Saul with David already. <br /><br />But I think the Christian interpretation might be that this was a hint of the New Testament forthcoming, that one might sin and receive mercy if one asks for it penitently. I'll leave it to the biblical scholars to submit interpretations.<br /><br />Watch the film and you might come up with an entirely new theory.\"\n",
            " b\"I really liked this movie! Even though it wasn't anything like any of the books it still the that classic Nancy Drew style. I had been seeing a lot of advertisements for this movie and since I was really into the Nancy Drew books I had really high expectations for this movie and they most definitely met those expectations. Pretty much all of the characters were exactly how I pictured them from reading the books. I am really happy that I saw this movie. All of the actors and actresses really acted like they acted like in the book series. Ever since I saw this movie I have wanted to read every single Nancy Drew book there is out there. All of the actors and actresses really got into their characters and it definitely showed when the aired this movie on the big screen. It definitely seemed like all of the actors and actresses were really in the positions that the characters were in I most definitely give this movie a 10 out of 10.\"]\n",
            "\n",
            "labels:  [1 1 1]\n"
          ]
        }
      ]
    },
    {
      "cell_type": "code",
      "metadata": {
        "colab": {
          "base_uri": "https://localhost:8080/"
        },
        "id": "qCgYxjrd0_Vk",
        "outputId": "172b4136-a9b9-4426-e943-0f4a1dd944dd"
      },
      "source": [
        "VOCAB_SIZE = 1000\n",
        "encoder = tf.keras.layers.TextVectorization(\n",
        "    max_tokens=VOCAB_SIZE)\n",
        "encoder.adapt(train_dataset.map(lambda text, label: text))\n",
        "\n",
        "vocab = np.array(encoder.get_vocabulary())\n",
        "vocab[:20]\n"
      ],
      "execution_count": 7,
      "outputs": [
        {
          "output_type": "execute_result",
          "data": {
            "text/plain": [
              "array(['', '[UNK]', 'the', 'and', 'a', 'of', 'to', 'is', 'in', 'it', 'i',\n",
              "       'this', 'that', 'br', 'was', 'as', 'for', 'with', 'movie', 'but'],\n",
              "      dtype='<U14')"
            ]
          },
          "metadata": {},
          "execution_count": 7
        }
      ]
    },
    {
      "cell_type": "code",
      "metadata": {
        "colab": {
          "base_uri": "https://localhost:8080/"
        },
        "id": "LSwqoyJj1D5O",
        "outputId": "fb27d86b-6809-4c8a-fd76-f6a5735d36d8"
      },
      "source": [
        "encoded_example = encoder(example)[:3].numpy()\n",
        "encoded_example"
      ],
      "execution_count": 8,
      "outputs": [
        {
          "output_type": "execute_result",
          "data": {
            "text/plain": [
              "array([[  1,   1,  31, ...,   0,   0,   0],\n",
              "       [195, 203,   1, ...,   0,   0,   0],\n",
              "       [ 10,  63, 405, ...,   0,   0,   0]])"
            ]
          },
          "metadata": {},
          "execution_count": 8
        }
      ]
    },
    {
      "cell_type": "code",
      "metadata": {
        "colab": {
          "base_uri": "https://localhost:8080/"
        },
        "id": "7Ek7hOTC1Gul",
        "outputId": "f7d63685-91e0-42f4-e140-f68aad59d6d8"
      },
      "source": [
        "for n in range(3):\n",
        "  print(\"Original: \", example[n].numpy())\n",
        "  print(\"Round-trip: \", \" \".join(vocab[encoded_example[n]]))\n",
        "  print()"
      ],
      "execution_count": 9,
      "outputs": [
        {
          "output_type": "stream",
          "name": "stdout",
          "text": [
            "Original:  b\"Cat Soup at first seems to be a very random animated film. The best way I've been able to explain it is that it's quite acidic. Though it's not totally random. The story is about Nyatta, a young cat boy and his sister Nyaako. Nyaako is very ill and dies, however, Nyatta sees her soul being taken away by death and is able to retrieve half of it. The story is about their quest to bring Nyaako fully back to life.<br /><br />Though a lot of the content in this movie seems completely random, it is not. Most of it is symbolism for life, death and rebirth. You can also see references from other tales, such as Hansel and Gretal. This strangely cute short film has an interesting story, packed with a deeper meaning than what you see on the surface of the screen.\"\n",
            "Round-trip:  [UNK] [UNK] at first seems to be a very [UNK] [UNK] film the best way ive been able to [UNK] it is that its quite [UNK] though its not totally [UNK] the story is about [UNK] a young [UNK] boy and his sister [UNK] [UNK] is very ill and [UNK] however [UNK] [UNK] her [UNK] being taken away by death and is able to [UNK] half of it the story is about their [UNK] to bring [UNK] [UNK] back to [UNK] br though a lot of the [UNK] in this movie seems completely [UNK] it is not most of it is [UNK] for life death and [UNK] you can also see [UNK] from other [UNK] such as [UNK] and [UNK] this [UNK] [UNK] short film has an interesting story [UNK] with a [UNK] [UNK] than what you see on the [UNK] of the screen                                                                                                                                                                                                                                                                                                                                                                                                                                                                                                                                                                                                                                                                                                                                                                                                                                                                                             \n",
            "\n",
            "Original:  b\"I've always believed that David and Bathsheba was a film originally intended for Tyrone Power at 20th Century Fox, although Gregory Peck does give a good account of himself as King David, the monarch with a wandering eye.<br /><br />A whole lot of biblical subjects get covered in this film, adultery, redemption, sin, punishment and generally what God expects from his followers.<br /><br />When you're a king, even king in a biblically prophesied kingdom you certainly do have a lot perogatives not open to the rest of us. King David has many wives, including one really vicious one in Jayne Meadows who was the daughter of Saul, David's predecessor. But his eyes catch sight of Bathsheba out in her garden one evening. Turns out she's as unhappily married to Uriah the Hittite as David is to quite a few women. Uriah is one of David's army captains. David sends for Bathsheba and him being the King, she comes a runnin' because she's had her eye on him too.<br /><br />What happens, an affair, a pregnancy, and a carefully arranged death for Uriah in a battle. But an all seeing and knowing Deity has caught all of this and is not only punishing David and Bathsheba, but the entire Kingdom of Israel is being punished with drought, disease, and pestilence.<br /><br />The sexist law of the day calls for Bathsheba to have a stoning death. David shows weakness in his previous actions, but here he steps up to the plate and asks that the whole thing be put on him. He even lays hands on the Ark of the Covenant which was an instant death as seen in the film.<br /><br />My interpretation of it is that God admires guts even if you're wrong and he lets up on David and forgives them both. Bathsheba becomes the mother of Solomon and she and David are the ancestors of several successors in the divided kingdoms of Israel and Judah until they're both conquered.<br /><br />Susan Hayward is a fetching Bathsheba caught in a loveless marriage with Uriah played by Kieron Moore. The only thing that gets Moore aroused is a good battle. I liked Kieron Moore's performance as a brave and rather stupid horse's rear. <br /><br />No one can lay the law down like Raymond Massey. His Nathan the Prophet is in keeping with the John Brown character he played in two films, same intensity. <br /><br />So when His own law called for death, why did God spare Bathsheba and keep David on the throne. Maybe it was the fact He just didn't want to train a third guy for the job. He'd replaced Saul with David already. <br /><br />But I think the Christian interpretation might be that this was a hint of the New Testament forthcoming, that one might sin and receive mercy if one asks for it penitently. I'll leave it to the biblical scholars to submit interpretations.<br /><br />Watch the film and you might come up with an entirely new theory.\"\n",
            "Round-trip:  ive always [UNK] that david and [UNK] was a film [UNK] [UNK] for [UNK] power at [UNK] [UNK] [UNK] although [UNK] [UNK] does give a good [UNK] of himself as king david the [UNK] with a [UNK] [UNK] br a whole lot of [UNK] [UNK] get [UNK] in this film [UNK] [UNK] [UNK] [UNK] and [UNK] what god [UNK] from his [UNK] br when youre a king even king in a [UNK] [UNK] [UNK] you certainly do have a lot [UNK] not open to the rest of us king david has many [UNK] including one really [UNK] one in [UNK] [UNK] who was the daughter of [UNK] [UNK] [UNK] but his eyes [UNK] [UNK] of [UNK] out in her [UNK] one [UNK] turns out shes as [UNK] [UNK] to [UNK] the [UNK] as david is to quite a few women [UNK] is one of [UNK] [UNK] [UNK] david [UNK] for [UNK] and him being the king she comes a [UNK] because shes had her eye on him [UNK] br what happens an [UNK] a [UNK] and a [UNK] [UNK] death for [UNK] in a battle but an all seeing and [UNK] [UNK] has [UNK] all of this and is not only [UNK] david and [UNK] but the entire [UNK] of [UNK] is being [UNK] with [UNK] [UNK] and [UNK] br the [UNK] [UNK] of the day [UNK] for [UNK] to have a [UNK] death david shows [UNK] in his previous [UNK] but here he [UNK] up to the [UNK] and [UNK] that the whole thing be put on him he even [UNK] hands on the [UNK] of the [UNK] which was an [UNK] death as seen in the filmbr br my [UNK] of it is that god [UNK] [UNK] even if youre wrong and he lets up on david and [UNK] them both [UNK] becomes the mother of [UNK] and she and david are the [UNK] of several [UNK] in the [UNK] [UNK] of [UNK] and [UNK] until theyre both [UNK] br [UNK] [UNK] is a [UNK] [UNK] [UNK] in a [UNK] [UNK] with [UNK] played by [UNK] [UNK] the only thing that gets [UNK] [UNK] is a good battle i liked [UNK] [UNK] performance as a [UNK] and rather stupid [UNK] [UNK] br br no one can [UNK] the [UNK] down like [UNK] [UNK] his [UNK] the [UNK] is in [UNK] with the john [UNK] character he played in two films same [UNK] br br so when his own [UNK] called for death why did god [UNK] [UNK] and keep david on the [UNK] maybe it was the fact he just didnt want to [UNK] a third guy for the job [UNK] [UNK] [UNK] with david already br br but i think the [UNK] [UNK] might be that this was a [UNK] of the new [UNK] [UNK] that one might [UNK] and [UNK] [UNK] if one [UNK] for it [UNK] ill leave it to the [UNK] [UNK] to [UNK] [UNK] br watch the film and you might come up with an [UNK] new [UNK]                                                                                                                                                                                                                                                                                                                                                                                                                                                                                                                    \n",
            "\n",
            "Original:  b\"I really liked this movie! Even though it wasn't anything like any of the books it still the that classic Nancy Drew style. I had been seeing a lot of advertisements for this movie and since I was really into the Nancy Drew books I had really high expectations for this movie and they most definitely met those expectations. Pretty much all of the characters were exactly how I pictured them from reading the books. I am really happy that I saw this movie. All of the actors and actresses really acted like they acted like in the book series. Ever since I saw this movie I have wanted to read every single Nancy Drew book there is out there. All of the actors and actresses really got into their characters and it definitely showed when the aired this movie on the big screen. It definitely seemed like all of the actors and actresses were really in the positions that the characters were in I most definitely give this movie a 10 out of 10.\"\n",
            "Round-trip:  i really liked this movie even though it wasnt anything like any of the [UNK] it still the that classic [UNK] [UNK] style i had been seeing a lot of [UNK] for this movie and since i was really into the [UNK] [UNK] [UNK] i had really high [UNK] for this movie and they most definitely [UNK] those [UNK] pretty much all of the characters were exactly how i [UNK] them from reading the [UNK] i am really happy that i saw this movie all of the actors and [UNK] really [UNK] like they [UNK] like in the book series ever since i saw this movie i have wanted to read every single [UNK] [UNK] book there is out there all of the actors and [UNK] really got into their characters and it definitely [UNK] when the [UNK] this movie on the big screen it definitely seemed like all of the actors and [UNK] were really in the [UNK] that the characters were in i most definitely give this movie a 10 out of 10                                                                                                                                                                                                                                                                                                                                                                                                                                                                                                                                                                                                                                                                                                                                                                                                                                                              \n",
            "\n"
          ]
        }
      ]
    },
    {
      "cell_type": "code",
      "metadata": {
        "id": "eUyRBr2a1Jzz"
      },
      "source": [
        "model = tf.keras.Sequential([\n",
        "    encoder,\n",
        "    tf.keras.layers.Embedding(\n",
        "        input_dim=len(encoder.get_vocabulary()),\n",
        "        output_dim=64,\n",
        "        # Use masking to handle the variable sequence lengths\n",
        "        mask_zero=True),\n",
        "    tf.keras.layers.Bidirectional(tf.keras.layers.LSTM(64)),\n",
        "    tf.keras.layers.Dense(64, activation='relu'),\n",
        "    tf.keras.layers.Dense(1)\n",
        "])"
      ],
      "execution_count": 10,
      "outputs": []
    },
    {
      "cell_type": "code",
      "metadata": {
        "colab": {
          "base_uri": "https://localhost:8080/"
        },
        "id": "aZOY9N-n1NmN",
        "outputId": "1d1ddfa4-335b-4593-e834-c8bf34611394"
      },
      "source": [
        "print([layer.supports_masking for layer in model.layers])"
      ],
      "execution_count": 11,
      "outputs": [
        {
          "output_type": "stream",
          "name": "stdout",
          "text": [
            "[False, True, True, True, True]\n"
          ]
        }
      ]
    },
    {
      "cell_type": "code",
      "metadata": {
        "colab": {
          "base_uri": "https://localhost:8080/"
        },
        "id": "NtWdnqs61URa",
        "outputId": "1a1a2075-b6a1-43c6-f779-553bd968fd21"
      },
      "source": [
        "sample_text = ('The movie was cool. The animation and the graphics '\n",
        "               'were out of this world. I would recommend this movie.')\n",
        "predictions = model.predict(np.array([sample_text]))\n",
        "print(predictions[0])"
      ],
      "execution_count": 12,
      "outputs": [
        {
          "output_type": "stream",
          "name": "stdout",
          "text": [
            "[0.00525651]\n"
          ]
        }
      ]
    },
    {
      "cell_type": "code",
      "metadata": {
        "colab": {
          "base_uri": "https://localhost:8080/"
        },
        "id": "SDCU8B081ZyJ",
        "outputId": "d8fe2a6b-fcee-44c3-99c2-f73a3c1c256e"
      },
      "source": [
        "# predict on a sample text with padding\n",
        "\n",
        "padding = \"the \" * 2000\n",
        "predictions = model.predict(np.array([sample_text, padding]))\n",
        "print(predictions[0]) "
      ],
      "execution_count": 13,
      "outputs": [
        {
          "output_type": "stream",
          "name": "stdout",
          "text": [
            "[0.00525651]\n"
          ]
        }
      ]
    },
    {
      "cell_type": "code",
      "metadata": {
        "id": "4TGLZmIE1elH"
      },
      "source": [
        "model.compile(loss=tf.keras.losses.BinaryCrossentropy(from_logits=True),\n",
        "              optimizer=tf.keras.optimizers.Adam(1e-4),\n",
        "              metrics=['accuracy'])"
      ],
      "execution_count": 14,
      "outputs": []
    },
    {
      "cell_type": "code",
      "metadata": {
        "id": "TohoIKtD1gUe"
      },
      "source": [
        "history = model.fit(train_dataset, epochs=3,\n",
        "                    validation_data=test_dataset,\n",
        "                    validation_steps=30)\n",
        "\n",
        "test_loss, test_acc = model.evaluate(test_dataset)"
      ],
      "execution_count": 16,
      "outputs": []
    },
    {
      "cell_type": "code",
      "metadata": {
        "id": "yBwPiEuW1oeO"
      },
      "source": [
        "print('Test Loss:', test_loss)\n",
        "print('Test Accuracy:', test_acc)"
      ],
      "execution_count": 16,
      "outputs": []
    }
  ]
}